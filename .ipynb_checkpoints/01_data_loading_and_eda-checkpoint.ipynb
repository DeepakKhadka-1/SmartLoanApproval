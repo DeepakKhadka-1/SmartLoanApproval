{
 "cells": [
  {
   "cell_type": "code",
   "execution_count": 1,
   "id": "cad5c658-f37c-43e2-9be2-beec0237e9e2",
   "metadata": {},
   "outputs": [
    {
     "data": {
      "text/html": [
       "<div>\n",
       "<style scoped>\n",
       "    .dataframe tbody tr th:only-of-type {\n",
       "        vertical-align: middle;\n",
       "    }\n",
       "\n",
       "    .dataframe tbody tr th {\n",
       "        vertical-align: top;\n",
       "    }\n",
       "\n",
       "    .dataframe thead th {\n",
       "        text-align: right;\n",
       "    }\n",
       "</style>\n",
       "<table border=\"1\" class=\"dataframe\">\n",
       "  <thead>\n",
       "    <tr style=\"text-align: right;\">\n",
       "      <th></th>\n",
       "      <th>Gender</th>\n",
       "      <th>Married</th>\n",
       "      <th>Education</th>\n",
       "      <th>ApplicantIncome</th>\n",
       "      <th>LoanAmount</th>\n",
       "      <th>Credit_History</th>\n",
       "      <th>Loan_Status</th>\n",
       "    </tr>\n",
       "  </thead>\n",
       "  <tbody>\n",
       "    <tr>\n",
       "      <th>0</th>\n",
       "      <td>Male</td>\n",
       "      <td>Yes</td>\n",
       "      <td>Graduate</td>\n",
       "      <td>5000</td>\n",
       "      <td>200</td>\n",
       "      <td>1</td>\n",
       "      <td>Y</td>\n",
       "    </tr>\n",
       "    <tr>\n",
       "      <th>1</th>\n",
       "      <td>Female</td>\n",
       "      <td>No</td>\n",
       "      <td>Not Graduate</td>\n",
       "      <td>3000</td>\n",
       "      <td>100</td>\n",
       "      <td>0</td>\n",
       "      <td>N</td>\n",
       "    </tr>\n",
       "    <tr>\n",
       "      <th>2</th>\n",
       "      <td>Male</td>\n",
       "      <td>Yes</td>\n",
       "      <td>Graduate</td>\n",
       "      <td>4000</td>\n",
       "      <td>150</td>\n",
       "      <td>1</td>\n",
       "      <td>Y</td>\n",
       "    </tr>\n",
       "    <tr>\n",
       "      <th>3</th>\n",
       "      <td>Male</td>\n",
       "      <td>No</td>\n",
       "      <td>Graduate</td>\n",
       "      <td>2500</td>\n",
       "      <td>80</td>\n",
       "      <td>1</td>\n",
       "      <td>Y</td>\n",
       "    </tr>\n",
       "    <tr>\n",
       "      <th>4</th>\n",
       "      <td>Female</td>\n",
       "      <td>Yes</td>\n",
       "      <td>Not Graduate</td>\n",
       "      <td>6000</td>\n",
       "      <td>250</td>\n",
       "      <td>0</td>\n",
       "      <td>N</td>\n",
       "    </tr>\n",
       "  </tbody>\n",
       "</table>\n",
       "</div>"
      ],
      "text/plain": [
       "   Gender Married     Education  ApplicantIncome  LoanAmount  Credit_History  \\\n",
       "0    Male     Yes      Graduate             5000         200               1   \n",
       "1  Female      No  Not Graduate             3000         100               0   \n",
       "2    Male     Yes      Graduate             4000         150               1   \n",
       "3    Male      No      Graduate             2500          80               1   \n",
       "4  Female     Yes  Not Graduate             6000         250               0   \n",
       "\n",
       "  Loan_Status  \n",
       "0           Y  \n",
       "1           N  \n",
       "2           Y  \n",
       "3           Y  \n",
       "4           N  "
      ]
     },
     "execution_count": 1,
     "metadata": {},
     "output_type": "execute_result"
    }
   ],
   "source": [
    "import pandas as pd\n",
    "\n",
    "# Sample synthetic loan dataset\n",
    "data = {\n",
    "    'Gender': ['Male', 'Female', 'Male', 'Male', 'Female'],\n",
    "    'Married': ['Yes', 'No', 'Yes', 'No', 'Yes'],\n",
    "    'Education': ['Graduate', 'Not Graduate', 'Graduate', 'Graduate', 'Not Graduate'],\n",
    "    'ApplicantIncome': [5000, 3000, 4000, 2500, 6000],\n",
    "    'LoanAmount': [200, 100, 150, 80, 250],\n",
    "    'Credit_History': [1, 0, 1, 1, 0],\n",
    "    'Loan_Status': ['Y', 'N', 'Y', 'Y', 'N']\n",
    "}\n",
    "\n",
    "df = pd.DataFrame(data)\n",
    "df.head()\n"
   ]
  },
  {
   "cell_type": "code",
   "execution_count": 2,
   "id": "144819fb-8d41-4f76-bb59-239fa101309f",
   "metadata": {},
   "outputs": [
    {
     "name": "stdout",
     "output_type": "stream",
     "text": [
      "Shape: (5, 7)\n",
      "Columns: ['Gender', 'Married', 'Education', 'ApplicantIncome', 'LoanAmount', 'Credit_History', 'Loan_Status']\n",
      "Missing values:\n",
      " Gender             0\n",
      "Married            0\n",
      "Education          0\n",
      "ApplicantIncome    0\n",
      "LoanAmount         0\n",
      "Credit_History     0\n",
      "Loan_Status        0\n",
      "dtype: int64\n",
      "Summary:\n",
      "        Gender Married Education  ApplicantIncome  LoanAmount  Credit_History  \\\n",
      "count       5       5         5         5.000000    5.000000        5.000000   \n",
      "unique      2       2         2              NaN         NaN             NaN   \n",
      "top      Male     Yes  Graduate              NaN         NaN             NaN   \n",
      "freq        3       3         3              NaN         NaN             NaN   \n",
      "mean      NaN     NaN       NaN      4100.000000  156.000000        0.600000   \n",
      "std       NaN     NaN       NaN      1431.782106   70.213959        0.547723   \n",
      "min       NaN     NaN       NaN      2500.000000   80.000000        0.000000   \n",
      "25%       NaN     NaN       NaN      3000.000000  100.000000        0.000000   \n",
      "50%       NaN     NaN       NaN      4000.000000  150.000000        1.000000   \n",
      "75%       NaN     NaN       NaN      5000.000000  200.000000        1.000000   \n",
      "max       NaN     NaN       NaN      6000.000000  250.000000        1.000000   \n",
      "\n",
      "       Loan_Status  \n",
      "count            5  \n",
      "unique           2  \n",
      "top              Y  \n",
      "freq             3  \n",
      "mean           NaN  \n",
      "std            NaN  \n",
      "min            NaN  \n",
      "25%            NaN  \n",
      "50%            NaN  \n",
      "75%            NaN  \n",
      "max            NaN  \n",
      "Loan Status Distribution:\n",
      " Loan_Status\n",
      "Y    3\n",
      "N    2\n",
      "Name: count, dtype: int64\n"
     ]
    }
   ],
   "source": [
    "# Shape and column names\n",
    "print(\"Shape:\", df.shape)\n",
    "print(\"Columns:\", df.columns.tolist())\n",
    "\n",
    "# Missing values\n",
    "print(\"Missing values:\\n\", df.isnull().sum())\n",
    "\n",
    "# Summary statistics\n",
    "print(\"Summary:\\n\", df.describe(include='all'))\n",
    "\n",
    "# Target distribution\n",
    "print(\"Loan Status Distribution:\\n\", df['Loan_Status'].value_counts())\n"
   ]
  },
  {
   "cell_type": "code",
   "execution_count": 7,
   "id": "0d8e0f2d-a4e6-4adf-add8-663d5a90183f",
   "metadata": {},
   "outputs": [
    {
     "name": "stdout",
     "output_type": "stream",
     "text": [
      "Folder created or already exists: C:\\Users\\Deepak khadka\\data\n"
     ]
    }
   ],
   "source": [
    "import os\n",
    "\n",
    "# Define the folder path\n",
    "folder_path = os.path.abspath('../data')\n",
    "\n",
    "# Create the folder if it doesn't exist\n",
    "os.makedirs(folder_path, exist_ok=True)\n",
    "print(\"Folder created or already exists:\", folder_path)\n"
   ]
  },
  {
   "cell_type": "code",
   "execution_count": 8,
   "id": "c3522cda-1c3f-4dd1-bf50-3eeedb52982a",
   "metadata": {},
   "outputs": [
    {
     "name": "stdout",
     "output_type": "stream",
     "text": [
      "File saved to: C:\\Users\\Deepak khadka\\data\\loan_data.csv\n"
     ]
    }
   ],
   "source": [
    "file_path = os.path.join(folder_path, 'loan_data.csv')\n",
    "df.to_csv(file_path, index=False)\n",
    "print(\"File saved to:\", file_path)\n"
   ]
  }
 ],
 "metadata": {
  "kernelspec": {
   "display_name": "Python 3 (ipykernel)",
   "language": "python",
   "name": "python3"
  },
  "language_info": {
   "codemirror_mode": {
    "name": "ipython",
    "version": 3
   },
   "file_extension": ".py",
   "mimetype": "text/x-python",
   "name": "python",
   "nbconvert_exporter": "python",
   "pygments_lexer": "ipython3",
   "version": "3.14.0"
  }
 },
 "nbformat": 4,
 "nbformat_minor": 5
}
